{
  "nbformat": 4,
  "nbformat_minor": 0,
  "metadata": {
    "colab": {
      "name": "FirstNN.ipynb",
      "version": "0.3.2",
      "provenance": [],
      "include_colab_link": true
    },
    "kernelspec": {
      "name": "python3",
      "display_name": "Python 3"
    }
  },
  "cells": [
    {
      "cell_type": "markdown",
      "metadata": {
        "id": "view-in-github",
        "colab_type": "text"
      },
      "source": [
        "<a href=\"https://colab.research.google.com/github/PadmarajBhat/Deep-Learning-Introduction/blob/master/FirstNN.ipynb\" target=\"_parent\"><img src=\"https://colab.research.google.com/assets/colab-badge.svg\" alt=\"Open In Colab\"/></a>"
      ]
    },
    {
      "cell_type": "markdown",
      "metadata": {
        "id": "IW1Yr4PP6FW-",
        "colab_type": "text"
      },
      "source": [
        "Here, when we say tensorflow import it includes all breadth of tensorflow library. And hence second line is redundant. It is added just to reduce the length of the single line of code (ease of coding)\n",
        "\n",
        "We can also have ```from tensorflow.keras import layers``` for further simplify the code"
      ]
    },
    {
      "cell_type": "code",
      "metadata": {
        "id": "UtbZtJR5v5dT",
        "colab_type": "code",
        "colab": {}
      },
      "source": [
        "import tensorflow as tf\n",
        "from tensorflow import keras"
      ],
      "execution_count": 0,
      "outputs": []
    },
    {
      "cell_type": "markdown",
      "metadata": {
        "id": "GlsS9BWx67v2",
        "colab_type": "text"
      },
      "source": [
        "Here, 1 layer NN where 1 side is input and other is output.\n",
        "\n",
        "Input shape is 1d array hence input_shape is [1]\n",
        "output shape is also 1d and hence first parameter is \"1\""
      ]
    },
    {
      "cell_type": "code",
      "metadata": {
        "id": "hpvUVEPBwB42",
        "colab_type": "code",
        "colab": {}
      },
      "source": [
        "model = keras.Sequential([\n",
        "    keras.layers.Dense(1,input_shape=[1])\n",
        "])\n",
        "model.compile(optimizer='sgd',loss='mean_squared_error')"
      ],
      "execution_count": 0,
      "outputs": []
    },
    {
      "cell_type": "markdown",
      "metadata": {
        "id": "XTcaHcLh7Pai",
        "colab_type": "text"
      },
      "source": [
        "Let us build the data to be used for training the model"
      ]
    },
    {
      "cell_type": "code",
      "metadata": {
        "id": "39TXhttwzwqI",
        "colab_type": "code",
        "colab": {}
      },
      "source": [
        "import numpy as np\n",
        "\n",
        "xs = np.array([1,2,3,4,5,6,7,8,9], dtype=np.int)\n",
        "ys = np.array([2,3,4,5,6,7,8,9,10], dtype=np.int)\n"
      ],
      "execution_count": 0,
      "outputs": []
    },
    {
      "cell_type": "markdown",
      "metadata": {
        "id": "9gG0lWS97VHh",
        "colab_type": "text"
      },
      "source": [
        "Let us train the model"
      ]
    },
    {
      "cell_type": "code",
      "metadata": {
        "id": "pBDl05Nd1GpM",
        "colab_type": "code",
        "colab": {
          "base_uri": "https://localhost:8080/",
          "height": 1000
        },
        "outputId": "8837397c-882f-4080-abeb-417af357f547"
      },
      "source": [
        "model.fit(xs,ys,epochs=100)"
      ],
      "execution_count": 53,
      "outputs": [
        {
          "output_type": "stream",
          "text": [
            "Epoch 1/100\n",
            "9/9 [==============================] - 0s 367us/sample - loss: 0.0367\n",
            "Epoch 2/100\n",
            "9/9 [==============================] - 0s 361us/sample - loss: 0.0364\n",
            "Epoch 3/100\n",
            "9/9 [==============================] - 0s 298us/sample - loss: 0.0361\n",
            "Epoch 4/100\n",
            "9/9 [==============================] - 0s 278us/sample - loss: 0.0359\n",
            "Epoch 5/100\n",
            "9/9 [==============================] - 0s 305us/sample - loss: 0.0356\n",
            "Epoch 6/100\n",
            "9/9 [==============================] - 0s 166us/sample - loss: 0.0353\n",
            "Epoch 7/100\n",
            "9/9 [==============================] - 0s 252us/sample - loss: 0.0350\n",
            "Epoch 8/100\n",
            "9/9 [==============================] - 0s 362us/sample - loss: 0.0347\n",
            "Epoch 9/100\n",
            "9/9 [==============================] - 0s 329us/sample - loss: 0.0344\n",
            "Epoch 10/100\n",
            "9/9 [==============================] - 0s 325us/sample - loss: 0.0341\n",
            "Epoch 11/100\n",
            "9/9 [==============================] - 0s 303us/sample - loss: 0.0338\n",
            "Epoch 12/100\n",
            "9/9 [==============================] - 0s 253us/sample - loss: 0.0336\n",
            "Epoch 13/100\n",
            "9/9 [==============================] - 0s 274us/sample - loss: 0.0333\n",
            "Epoch 14/100\n",
            "9/9 [==============================] - 0s 295us/sample - loss: 0.0330\n",
            "Epoch 15/100\n",
            "9/9 [==============================] - 0s 235us/sample - loss: 0.0327\n",
            "Epoch 16/100\n",
            "9/9 [==============================] - 0s 349us/sample - loss: 0.0325\n",
            "Epoch 17/100\n",
            "9/9 [==============================] - 0s 172us/sample - loss: 0.0322\n",
            "Epoch 18/100\n",
            "9/9 [==============================] - 0s 255us/sample - loss: 0.0319\n",
            "Epoch 19/100\n",
            "9/9 [==============================] - 0s 451us/sample - loss: 0.0317\n",
            "Epoch 20/100\n",
            "9/9 [==============================] - 0s 215us/sample - loss: 0.0314\n",
            "Epoch 21/100\n",
            "9/9 [==============================] - 0s 297us/sample - loss: 0.0312\n",
            "Epoch 22/100\n",
            "9/9 [==============================] - 0s 272us/sample - loss: 0.0309\n",
            "Epoch 23/100\n",
            "9/9 [==============================] - 0s 247us/sample - loss: 0.0307\n",
            "Epoch 24/100\n",
            "9/9 [==============================] - 0s 524us/sample - loss: 0.0304\n",
            "Epoch 25/100\n",
            "9/9 [==============================] - 0s 203us/sample - loss: 0.0302\n",
            "Epoch 26/100\n",
            "9/9 [==============================] - 0s 217us/sample - loss: 0.0299\n",
            "Epoch 27/100\n",
            "9/9 [==============================] - 0s 384us/sample - loss: 0.0297\n",
            "Epoch 28/100\n",
            "9/9 [==============================] - 0s 398us/sample - loss: 0.0294\n",
            "Epoch 29/100\n",
            "9/9 [==============================] - 0s 164us/sample - loss: 0.0292\n",
            "Epoch 30/100\n",
            "9/9 [==============================] - 0s 208us/sample - loss: 0.0289\n",
            "Epoch 31/100\n",
            "9/9 [==============================] - 0s 219us/sample - loss: 0.0287\n",
            "Epoch 32/100\n",
            "9/9 [==============================] - 0s 176us/sample - loss: 0.0285\n",
            "Epoch 33/100\n",
            "9/9 [==============================] - 0s 168us/sample - loss: 0.0282\n",
            "Epoch 34/100\n",
            "9/9 [==============================] - 0s 285us/sample - loss: 0.0280\n",
            "Epoch 35/100\n",
            "9/9 [==============================] - 0s 200us/sample - loss: 0.0278\n",
            "Epoch 36/100\n",
            "9/9 [==============================] - 0s 158us/sample - loss: 0.0275\n",
            "Epoch 37/100\n",
            "9/9 [==============================] - 0s 152us/sample - loss: 0.0273\n",
            "Epoch 38/100\n",
            "9/9 [==============================] - 0s 154us/sample - loss: 0.0271\n",
            "Epoch 39/100\n",
            "9/9 [==============================] - 0s 168us/sample - loss: 0.0269\n",
            "Epoch 40/100\n",
            "9/9 [==============================] - 0s 180us/sample - loss: 0.0267\n",
            "Epoch 41/100\n",
            "9/9 [==============================] - 0s 189us/sample - loss: 0.0264\n",
            "Epoch 42/100\n",
            "9/9 [==============================] - 0s 180us/sample - loss: 0.0262\n",
            "Epoch 43/100\n",
            "9/9 [==============================] - 0s 167us/sample - loss: 0.0260\n",
            "Epoch 44/100\n",
            "9/9 [==============================] - 0s 177us/sample - loss: 0.0258\n",
            "Epoch 45/100\n",
            "9/9 [==============================] - 0s 186us/sample - loss: 0.0256\n",
            "Epoch 46/100\n",
            "9/9 [==============================] - 0s 187us/sample - loss: 0.0254\n",
            "Epoch 47/100\n",
            "9/9 [==============================] - 0s 179us/sample - loss: 0.0252\n",
            "Epoch 48/100\n",
            "9/9 [==============================] - 0s 179us/sample - loss: 0.0250\n",
            "Epoch 49/100\n",
            "9/9 [==============================] - 0s 202us/sample - loss: 0.0248\n",
            "Epoch 50/100\n",
            "9/9 [==============================] - 0s 195us/sample - loss: 0.0245\n",
            "Epoch 51/100\n",
            "9/9 [==============================] - 0s 255us/sample - loss: 0.0243\n",
            "Epoch 52/100\n",
            "9/9 [==============================] - 0s 205us/sample - loss: 0.0241\n",
            "Epoch 53/100\n",
            "9/9 [==============================] - 0s 173us/sample - loss: 0.0240\n",
            "Epoch 54/100\n",
            "9/9 [==============================] - 0s 186us/sample - loss: 0.0238\n",
            "Epoch 55/100\n",
            "9/9 [==============================] - 0s 254us/sample - loss: 0.0236\n",
            "Epoch 56/100\n",
            "9/9 [==============================] - 0s 224us/sample - loss: 0.0234\n",
            "Epoch 57/100\n",
            "9/9 [==============================] - 0s 213us/sample - loss: 0.0232\n",
            "Epoch 58/100\n",
            "9/9 [==============================] - 0s 270us/sample - loss: 0.0230\n",
            "Epoch 59/100\n",
            "9/9 [==============================] - 0s 231us/sample - loss: 0.0228\n",
            "Epoch 60/100\n",
            "9/9 [==============================] - 0s 247us/sample - loss: 0.0226\n",
            "Epoch 61/100\n",
            "9/9 [==============================] - 0s 188us/sample - loss: 0.0224\n",
            "Epoch 62/100\n",
            "9/9 [==============================] - 0s 202us/sample - loss: 0.0222\n",
            "Epoch 63/100\n",
            "9/9 [==============================] - 0s 197us/sample - loss: 0.0221\n",
            "Epoch 64/100\n",
            "9/9 [==============================] - 0s 230us/sample - loss: 0.0219\n",
            "Epoch 65/100\n",
            "9/9 [==============================] - 0s 192us/sample - loss: 0.0217\n",
            "Epoch 66/100\n",
            "9/9 [==============================] - 0s 274us/sample - loss: 0.0215\n",
            "Epoch 67/100\n",
            "9/9 [==============================] - 0s 256us/sample - loss: 0.0213\n",
            "Epoch 68/100\n",
            "9/9 [==============================] - 0s 224us/sample - loss: 0.0212\n",
            "Epoch 69/100\n",
            "9/9 [==============================] - 0s 209us/sample - loss: 0.0210\n",
            "Epoch 70/100\n",
            "9/9 [==============================] - 0s 237us/sample - loss: 0.0208\n",
            "Epoch 71/100\n",
            "9/9 [==============================] - 0s 206us/sample - loss: 0.0207\n",
            "Epoch 72/100\n",
            "9/9 [==============================] - 0s 241us/sample - loss: 0.0205\n",
            "Epoch 73/100\n",
            "9/9 [==============================] - 0s 205us/sample - loss: 0.0203\n",
            "Epoch 74/100\n",
            "9/9 [==============================] - 0s 247us/sample - loss: 0.0201\n",
            "Epoch 75/100\n",
            "9/9 [==============================] - 0s 223us/sample - loss: 0.0200\n",
            "Epoch 76/100\n",
            "9/9 [==============================] - 0s 241us/sample - loss: 0.0198\n",
            "Epoch 77/100\n",
            "9/9 [==============================] - 0s 211us/sample - loss: 0.0197\n",
            "Epoch 78/100\n",
            "9/9 [==============================] - 0s 275us/sample - loss: 0.0195\n",
            "Epoch 79/100\n",
            "9/9 [==============================] - 0s 181us/sample - loss: 0.0193\n",
            "Epoch 80/100\n",
            "9/9 [==============================] - 0s 243us/sample - loss: 0.0192\n",
            "Epoch 81/100\n",
            "9/9 [==============================] - 0s 241us/sample - loss: 0.0190\n",
            "Epoch 82/100\n",
            "9/9 [==============================] - 0s 279us/sample - loss: 0.0189\n",
            "Epoch 83/100\n",
            "9/9 [==============================] - 0s 206us/sample - loss: 0.0187\n",
            "Epoch 84/100\n",
            "9/9 [==============================] - 0s 243us/sample - loss: 0.0186\n",
            "Epoch 85/100\n",
            "9/9 [==============================] - 0s 168us/sample - loss: 0.0184\n",
            "Epoch 86/100\n",
            "9/9 [==============================] - 0s 176us/sample - loss: 0.0183\n",
            "Epoch 87/100\n",
            "9/9 [==============================] - 0s 195us/sample - loss: 0.0181\n",
            "Epoch 88/100\n",
            "9/9 [==============================] - 0s 188us/sample - loss: 0.0180\n",
            "Epoch 89/100\n",
            "9/9 [==============================] - 0s 181us/sample - loss: 0.0178\n",
            "Epoch 90/100\n",
            "9/9 [==============================] - 0s 234us/sample - loss: 0.0177\n",
            "Epoch 91/100\n",
            "9/9 [==============================] - 0s 237us/sample - loss: 0.0175\n",
            "Epoch 92/100\n",
            "9/9 [==============================] - 0s 192us/sample - loss: 0.0174\n",
            "Epoch 93/100\n",
            "9/9 [==============================] - 0s 169us/sample - loss: 0.0172\n",
            "Epoch 94/100\n",
            "9/9 [==============================] - 0s 184us/sample - loss: 0.0171\n",
            "Epoch 95/100\n",
            "9/9 [==============================] - 0s 200us/sample - loss: 0.0169\n",
            "Epoch 96/100\n",
            "9/9 [==============================] - 0s 194us/sample - loss: 0.0168\n",
            "Epoch 97/100\n",
            "9/9 [==============================] - 0s 192us/sample - loss: 0.0167\n",
            "Epoch 98/100\n",
            "9/9 [==============================] - 0s 181us/sample - loss: 0.0165\n",
            "Epoch 99/100\n",
            "9/9 [==============================] - 0s 260us/sample - loss: 0.0164\n",
            "Epoch 100/100\n",
            "9/9 [==============================] - 0s 186us/sample - loss: 0.0163\n"
          ],
          "name": "stdout"
        },
        {
          "output_type": "execute_result",
          "data": {
            "text/plain": [
              "<tensorflow.python.keras.callbacks.History at 0x7f9443891e10>"
            ]
          },
          "metadata": {
            "tags": []
          },
          "execution_count": 53
        }
      ]
    },
    {
      "cell_type": "markdown",
      "metadata": {
        "id": "7XO2444Y7Yu6",
        "colab_type": "text"
      },
      "source": [
        "Let us see how good the model is. Predict for a unseen data."
      ]
    },
    {
      "cell_type": "code",
      "metadata": {
        "id": "ZxiXMGny1WCQ",
        "colab_type": "code",
        "colab": {
          "base_uri": "https://localhost:8080/",
          "height": 34
        },
        "outputId": "5d1eb1bf-84c0-4c00-b8c4-e97a4f5fe7d0"
      },
      "source": [
        "model.predict([11])"
      ],
      "execution_count": 55,
      "outputs": [
        {
          "output_type": "execute_result",
          "data": {
            "text/plain": [
              "array([[12.207097]], dtype=float32)"
            ]
          },
          "metadata": {
            "tags": []
          },
          "execution_count": 55
        }
      ]
    },
    {
      "cell_type": "code",
      "metadata": {
        "id": "oeeKwoD21f6S",
        "colab_type": "code",
        "colab": {}
      },
      "source": [
        ""
      ],
      "execution_count": 0,
      "outputs": []
    }
  ]
}