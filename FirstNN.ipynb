{
  "nbformat": 4,
  "nbformat_minor": 0,
  "metadata": {
    "colab": {
      "name": "FirstNN.ipynb",
      "version": "0.3.2",
      "provenance": [],
      "include_colab_link": true
    },
    "kernelspec": {
      "name": "python3",
      "display_name": "Python 3"
    }
  },
  "cells": [
    {
      "cell_type": "markdown",
      "metadata": {
        "id": "view-in-github",
        "colab_type": "text"
      },
      "source": [
        "<a href=\"https://colab.research.google.com/github/PadmarajBhat/Deep-Learning-Introduction/blob/master/FirstNN.ipynb\" target=\"_parent\"><img src=\"https://colab.research.google.com/assets/colab-badge.svg\" alt=\"Open In Colab\"/></a>"
      ]
    },
    {
      "cell_type": "code",
      "metadata": {
        "id": "UtbZtJR5v5dT",
        "colab_type": "code",
        "colab": {}
      },
      "source": [
        "import tensorflow as tf\n",
        "from tensorflow import keras"
      ],
      "execution_count": 0,
      "outputs": []
    },
    {
      "cell_type": "code",
      "metadata": {
        "id": "hpvUVEPBwB42",
        "colab_type": "code",
        "colab": {}
      },
      "source": [
        "model = keras.Sequential([keras.layers.Dense(1,input_shape=[1])])\n",
        "model.compile(optimizer='sgd',loss='mean_squared_error')"
      ],
      "execution_count": 0,
      "outputs": []
    },
    {
      "cell_type": "code",
      "metadata": {
        "id": "39TXhttwzwqI",
        "colab_type": "code",
        "colab": {}
      },
      "source": [
        "import numpy as np\n",
        "\n",
        "xs = np.array([1,2,3,4,5], dtype=np.int)\n",
        "ys = np.array([2,3,4,5,6], dtype=np.int)\n"
      ],
      "execution_count": 0,
      "outputs": []
    },
    {
      "cell_type": "code",
      "metadata": {
        "id": "pBDl05Nd1GpM",
        "colab_type": "code",
        "colab": {
          "base_uri": "https://localhost:8080/",
          "height": 370
        },
        "outputId": "3054e06c-d138-4965-81b3-dae80ca97824"
      },
      "source": [
        "model.fit(xs,ys,epochs=10)"
      ],
      "execution_count": 13,
      "outputs": [
        {
          "output_type": "stream",
          "text": [
            "Epoch 1/10\n",
            "5/5 [==============================] - 0s 99ms/sample - loss: 42.4078\n",
            "Epoch 2/10\n",
            "5/5 [==============================] - 0s 321us/sample - loss: 24.7315\n",
            "Epoch 3/10\n",
            "5/5 [==============================] - 0s 403us/sample - loss: 14.4304\n",
            "Epoch 4/10\n",
            "5/5 [==============================] - 0s 317us/sample - loss: 8.4274\n",
            "Epoch 5/10\n",
            "5/5 [==============================] - 0s 370us/sample - loss: 4.9290\n",
            "Epoch 6/10\n",
            "5/5 [==============================] - 0s 786us/sample - loss: 2.8902\n",
            "Epoch 7/10\n",
            "5/5 [==============================] - 0s 630us/sample - loss: 1.7020\n",
            "Epoch 8/10\n",
            "5/5 [==============================] - 0s 290us/sample - loss: 1.0094\n",
            "Epoch 9/10\n",
            "5/5 [==============================] - 0s 781us/sample - loss: 0.6057\n",
            "Epoch 10/10\n",
            "5/5 [==============================] - 0s 444us/sample - loss: 0.3703\n"
          ],
          "name": "stdout"
        },
        {
          "output_type": "execute_result",
          "data": {
            "text/plain": [
              "<tensorflow.python.keras.callbacks.History at 0x7f947bf5d0f0>"
            ]
          },
          "metadata": {
            "tags": []
          },
          "execution_count": 13
        }
      ]
    },
    {
      "cell_type": "code",
      "metadata": {
        "id": "ZxiXMGny1WCQ",
        "colab_type": "code",
        "colab": {
          "base_uri": "https://localhost:8080/",
          "height": 34
        },
        "outputId": "4b0e88c9-eb39-4467-c9a7-ba0ec4ef96e4"
      },
      "source": [
        "model.predict([20])"
      ],
      "execution_count": 15,
      "outputs": [
        {
          "output_type": "execute_result",
          "data": {
            "text/plain": [
              "array([[20.686686]], dtype=float32)"
            ]
          },
          "metadata": {
            "tags": []
          },
          "execution_count": 15
        }
      ]
    },
    {
      "cell_type": "code",
      "metadata": {
        "id": "oeeKwoD21f6S",
        "colab_type": "code",
        "colab": {}
      },
      "source": [
        ""
      ],
      "execution_count": 0,
      "outputs": []
    }
  ]
}