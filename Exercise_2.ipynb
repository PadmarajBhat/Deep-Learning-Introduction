{
  "nbformat": 4,
  "nbformat_minor": 0,
  "metadata": {
    "colab": {
      "name": "Exercise 2.ipynb",
      "version": "0.3.2",
      "provenance": [],
      "include_colab_link": true
    },
    "kernelspec": {
      "name": "python3",
      "display_name": "Python 3"
    }
  },
  "cells": [
    {
      "cell_type": "markdown",
      "metadata": {
        "id": "view-in-github",
        "colab_type": "text"
      },
      "source": [
        "<a href=\"https://colab.research.google.com/github/PadmarajBhat/Deep-Learning-Introduction/blob/master/Exercise_2.ipynb\" target=\"_parent\"><img src=\"https://colab.research.google.com/assets/colab-badge.svg\" alt=\"Open In Colab\"/></a>"
      ]
    },
    {
      "cell_type": "code",
      "metadata": {
        "id": "FS-YXwqpW2yH",
        "colab_type": "code",
        "colab": {}
      },
      "source": [
        "import tensorflow as tf\n",
        "from tensorflow.keras import Sequential\n",
        "from tensorflow.keras.layers import Dense, Flatten\n",
        "import numpy as np"
      ],
      "execution_count": 0,
      "outputs": []
    },
    {
      "cell_type": "code",
      "metadata": {
        "id": "CBnolGjBXLok",
        "colab_type": "code",
        "outputId": "98bd2542-3bc3-4bba-b48e-5e8ecc21b424",
        "colab": {
          "base_uri": "https://localhost:8080/",
          "height": 50
        }
      },
      "source": [
        "mnist = tf.keras.datasets.mnist\n",
        "(train_x, train_y),(test_x,test_y) = mnist.load_data()"
      ],
      "execution_count": 2,
      "outputs": [
        {
          "output_type": "stream",
          "text": [
            "Downloading data from https://storage.googleapis.com/tensorflow/tf-keras-datasets/mnist.npz\n",
            "11493376/11490434 [==============================] - 0s 0us/step\n"
          ],
          "name": "stdout"
        }
      ]
    },
    {
      "cell_type": "code",
      "metadata": {
        "id": "-LTOCBOwXeMC",
        "colab_type": "code",
        "outputId": "bebd1ed9-74d8-43ec-d2cf-9fbfb1252770",
        "colab": {
          "base_uri": "https://localhost:8080/",
          "height": 34
        }
      },
      "source": [
        "train_x.shape, train_y.shape, test_x.shape, test_y.shape"
      ],
      "execution_count": 3,
      "outputs": [
        {
          "output_type": "execute_result",
          "data": {
            "text/plain": [
              "((60000, 28, 28), (60000,), (10000, 28, 28), (10000,))"
            ]
          },
          "metadata": {
            "tags": []
          },
          "execution_count": 3
        }
      ]
    },
    {
      "cell_type": "code",
      "metadata": {
        "id": "JWv9P-lKXlS4",
        "colab_type": "code",
        "outputId": "155738f9-0fef-43bf-b2f6-db7d2ffe18c2",
        "colab": {
          "base_uri": "https://localhost:8080/",
          "height": 34
        }
      },
      "source": [
        "train_x.max(),test_x.max()"
      ],
      "execution_count": 4,
      "outputs": [
        {
          "output_type": "execute_result",
          "data": {
            "text/plain": [
              "(255, 255)"
            ]
          },
          "metadata": {
            "tags": []
          },
          "execution_count": 4
        }
      ]
    },
    {
      "cell_type": "code",
      "metadata": {
        "id": "lfneBlQJXpva",
        "colab_type": "code",
        "outputId": "173fba2c-1ca4-4581-fa1f-2c805cd0323c",
        "colab": {
          "base_uri": "https://localhost:8080/",
          "height": 50
        }
      },
      "source": [
        "np.unique(train_y), np.unique(test_y)"
      ],
      "execution_count": 5,
      "outputs": [
        {
          "output_type": "execute_result",
          "data": {
            "text/plain": [
              "(array([0, 1, 2, 3, 4, 5, 6, 7, 8, 9], dtype=uint8),\n",
              " array([0, 1, 2, 3, 4, 5, 6, 7, 8, 9], dtype=uint8))"
            ]
          },
          "metadata": {
            "tags": []
          },
          "execution_count": 5
        }
      ]
    },
    {
      "cell_type": "code",
      "metadata": {
        "id": "iKk768FdX2ij",
        "colab_type": "code",
        "colab": {}
      },
      "source": [
        "train_x = train_x/train_x.max()\n",
        "test_x = test_x/test_x.max()"
      ],
      "execution_count": 0,
      "outputs": []
    },
    {
      "cell_type": "code",
      "metadata": {
        "id": "d7g2IKQQYmk6",
        "colab_type": "code",
        "outputId": "bed186ec-02c1-4a08-8a5e-d795a3903f71",
        "colab": {
          "base_uri": "https://localhost:8080/",
          "height": 34
        }
      },
      "source": [
        "train_x.max(),test_x.max()"
      ],
      "execution_count": 7,
      "outputs": [
        {
          "output_type": "execute_result",
          "data": {
            "text/plain": [
              "(1.0, 1.0)"
            ]
          },
          "metadata": {
            "tags": []
          },
          "execution_count": 7
        }
      ]
    },
    {
      "cell_type": "code",
      "metadata": {
        "id": "N2jNwnDOYqiX",
        "colab_type": "code",
        "colab": {}
      },
      "source": [
        "model = Sequential([\n",
        "    Flatten(input_shape=(28,28))\n",
        "    ,Dense(512,activation='relu')\n",
        "    ,Dense(128,activation='relu')\n",
        "    ,Dense(10,activation='softmax')\n",
        "])\n",
        "model.compile(optimizer=\"Adam\"\n",
        "              , loss=\"sparse_categorical_crossentropy\"\n",
        "              , metrics=['accuracy']\n",
        "             )"
      ],
      "execution_count": 0,
      "outputs": []
    },
    {
      "cell_type": "code",
      "metadata": {
        "id": "Q-arZL_jhgCF",
        "colab_type": "code",
        "colab": {
          "base_uri": "https://localhost:8080/",
          "height": 353
        },
        "outputId": "801fee0d-3549-42c1-a745-23ffce8a574a"
      },
      "source": [
        "history = model.fit(train_x,train_y, epochs=10)"
      ],
      "execution_count": 20,
      "outputs": [
        {
          "output_type": "stream",
          "text": [
            "Epoch 1/10\n",
            "60000/60000 [==============================] - 12s 193us/sample - loss: 0.0788 - acc: 0.9755\n",
            "Epoch 2/10\n",
            "60000/60000 [==============================] - 12s 198us/sample - loss: 0.0523 - acc: 0.9826\n",
            "Epoch 3/10\n",
            "60000/60000 [==============================] - 12s 197us/sample - loss: 0.0421 - acc: 0.9866\n",
            "Epoch 4/10\n",
            "60000/60000 [==============================] - 12s 199us/sample - loss: 0.0325 - acc: 0.9897\n",
            "Epoch 5/10\n",
            "60000/60000 [==============================] - 12s 199us/sample - loss: 0.0249 - acc: 0.9920\n",
            "Epoch 6/10\n",
            "60000/60000 [==============================] - 12s 198us/sample - loss: 0.0244 - acc: 0.9918\n",
            "Epoch 7/10\n",
            "60000/60000 [==============================] - 10s 172us/sample - loss: 0.0205 - acc: 0.9936\n",
            "Epoch 8/10\n",
            "60000/60000 [==============================] - 12s 195us/sample - loss: 0.0155 - acc: 0.9949\n",
            "Epoch 9/10\n",
            "60000/60000 [==============================] - 12s 192us/sample - loss: 0.0155 - acc: 0.9951\n",
            "Epoch 10/10\n",
            "60000/60000 [==============================] - 12s 197us/sample - loss: 0.0163 - acc: 0.9950\n"
          ],
          "name": "stdout"
        }
      ]
    },
    {
      "cell_type": "code",
      "metadata": {
        "id": "WhttStbQkBNt",
        "colab_type": "code",
        "colab": {
          "base_uri": "https://localhost:8080/",
          "height": 34
        },
        "outputId": "e1476a4d-61a6-426f-8dd1-cea85cc6f8e1"
      },
      "source": [
        "test_x.shape,test_y.shape"
      ],
      "execution_count": 27,
      "outputs": [
        {
          "output_type": "execute_result",
          "data": {
            "text/plain": [
              "((10000, 28, 28), (10000,))"
            ]
          },
          "metadata": {
            "tags": []
          },
          "execution_count": 27
        }
      ]
    },
    {
      "cell_type": "code",
      "metadata": {
        "id": "2-nHOKiNiSN2",
        "colab_type": "code",
        "colab": {
          "base_uri": "https://localhost:8080/",
          "height": 50
        },
        "outputId": "48406e4c-72bb-49ca-a053-f022c60c79e8"
      },
      "source": [
        "model.evaluate(test_x,test_y)"
      ],
      "execution_count": 29,
      "outputs": [
        {
          "output_type": "stream",
          "text": [
            "10000/10000 [==============================] - 1s 69us/sample - loss: 0.1151 - acc: 0.9765\n"
          ],
          "name": "stdout"
        },
        {
          "output_type": "execute_result",
          "data": {
            "text/plain": [
              "[0.11511587105597186, 0.9765]"
            ]
          },
          "metadata": {
            "tags": []
          },
          "execution_count": 29
        }
      ]
    }
  ]
}