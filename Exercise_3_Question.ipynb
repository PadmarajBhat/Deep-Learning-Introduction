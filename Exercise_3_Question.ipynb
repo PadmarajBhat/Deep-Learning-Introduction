{
  "nbformat": 4,
  "nbformat_minor": 0,
  "metadata": {
    "colab": {
      "name": "Exercise 3 - Question.ipynb",
      "version": "0.3.2",
      "provenance": [],
      "collapsed_sections": [],
      "include_colab_link": true
    },
    "kernelspec": {
      "name": "python3",
      "display_name": "Python 3"
    },
    "accelerator": "TPU"
  },
  "cells": [
    {
      "cell_type": "markdown",
      "metadata": {
        "id": "view-in-github",
        "colab_type": "text"
      },
      "source": [
        "<a href=\"https://colab.research.google.com/github/PadmarajBhat/Deep-Learning-Introduction/blob/master/Exercise_3_Question.ipynb\" target=\"_parent\"><img src=\"https://colab.research.google.com/assets/colab-badge.svg\" alt=\"Open In Colab\"/></a>"
      ]
    },
    {
      "cell_type": "markdown",
      "metadata": {
        "id": "iQjHqsmTAVLU",
        "colab_type": "text"
      },
      "source": [
        "## Exercise 3\n",
        "In the videos you looked at how you would improve Fashion MNIST using Convolutions. For your exercise see if you can improve MNIST to 99.8% accuracy or more using only a single convolutional layer and a single MaxPooling 2D. You should stop training once the accuracy goes above this amount. It should happen in less than 20 epochs, so it's ok to hard code the number of epochs for training, but your training must end once it hits the above metric. If it doesn't, then you'll need to redesign your layers.\n",
        "\n",
        "I've started the code for you -- you need to finish it!\n",
        "\n",
        "When 99.8% accuracy has been hit, you should print out the string \"Reached 99.8% accuracy so cancelling training!\"\n"
      ]
    },
    {
      "cell_type": "code",
      "metadata": {
        "id": "sfQRyaJWAIdg",
        "colab_type": "code",
        "outputId": "8456bc51-4c0e-481c-c581-c4dbdd44bf87",
        "colab": {
          "base_uri": "https://localhost:8080/",
          "height": 470
        }
      },
      "source": [
        "import tensorflow as tf\n",
        "\n",
        "# YOUR CODE STARTS HERE\n",
        "\n",
        "# YOUR CODE ENDS HERE\n",
        "\n",
        "mnist = tf.keras.datasets.mnist\n",
        "(training_images, training_labels), (test_images, test_labels) = mnist.load_data()\n",
        "\n",
        "# YOUR CODE STARTS HERE\n",
        "training_images = training_images/ training_images.max()\n",
        "test_images = test_images/ test_images.max()\n",
        "training_images = training_images.reshape(60000, 28,28,1)\n",
        "test_images = test_images.reshape(10000, 28,28,1)\n",
        "\n",
        "print(training_images.shape, test_images.shape)\n",
        "\n",
        "class MyCallBack(tf.keras.callbacks.Callback):\n",
        "  def __init__(self):\n",
        "    self.lastLoss = 0\n",
        "    self.lastAcc = 0\n",
        "  \n",
        "  def on_epoch_end(self, epochs,log={}):\n",
        "    print(self.lastLoss, log.get('loss'))\n",
        "    if (log.get('loss') < self.lastLoss and log.get('acc') < self.lastAcc) or \\\n",
        "    (log.get('acc') > 0.998):\n",
        "      self.model.stop_training = True\n",
        "    else:\n",
        "      self.lastLoss = log.get('loss')\n",
        "      self.lastAcc = log.get('acc')\n",
        "      \n",
        "myCallBackObj = MyCallBack()\n",
        "\n",
        "# YOUR CODE ENDS HERE\n",
        "\n",
        "model = tf.keras.models.Sequential([\n",
        "    # YOUR CODE STARTS HERE\n",
        "    tf.keras.layers.Conv2D(32, (3,3), activation='relu', input_shape=(28, 28, 1)),\n",
        "    tf.keras.layers.MaxPooling2D(2, 2),\n",
        "    tf.keras.layers.Flatten(),\n",
        "    tf.keras.layers.Dense(128, activation='relu'),\n",
        "    tf.keras.layers.Dense(10, activation='softmax')\n",
        "\n",
        "    # YOUR CODE ENDS HERE\n",
        "])\n",
        "\n",
        "# YOUR CODE STARTS HERE\n",
        "model.compile(optimizer='adam', loss='sparse_categorical_crossentropy', metrics=['accuracy'])\n",
        "model.fit(training_images, training_labels, epochs=10, callbacks=[myCallBackObj])\n",
        "model.evaluate(test_images, test_labels)\n",
        "# YOUR CODE ENDS HERE\n",
        "\n"
      ],
      "execution_count": 0,
      "outputs": [
        {
          "output_type": "stream",
          "text": [
            "(60000, 28, 28, 1) (10000, 28, 28, 1)\n",
            "Epoch 1/10\n",
            "59904/60000 [============================>.] - ETA: 0s - loss: 0.1531 - acc: 0.95410 0.15306588811464608\n",
            "60000/60000 [==============================] - 36s 595us/sample - loss: 0.1531 - acc: 0.9541\n",
            "Epoch 2/10\n",
            "59904/60000 [============================>.] - ETA: 0s - loss: 0.0504 - acc: 0.98420.15306588811464608 0.05040467472154026\n",
            "60000/60000 [==============================] - 36s 602us/sample - loss: 0.0504 - acc: 0.9842\n",
            "Epoch 3/10\n",
            "59936/60000 [============================>.] - ETA: 0s - loss: 0.0320 - acc: 0.98980.05040467472154026 0.0319522045801937\n",
            "60000/60000 [==============================] - 36s 605us/sample - loss: 0.0320 - acc: 0.9898\n",
            "Epoch 4/10\n",
            "59936/60000 [============================>.] - ETA: 0s - loss: 0.0212 - acc: 0.99300.0319522045801937 0.02117586817530682\n",
            "60000/60000 [==============================] - 36s 604us/sample - loss: 0.0212 - acc: 0.9930\n",
            "Epoch 5/10\n",
            "59904/60000 [============================>.] - ETA: 0s - loss: 0.0137 - acc: 0.99570.02117586817530682 0.01369143509186494\n",
            "60000/60000 [==============================] - 36s 602us/sample - loss: 0.0137 - acc: 0.9957\n",
            "Epoch 6/10\n",
            "59904/60000 [============================>.] - ETA: 0s - loss: 0.0098 - acc: 0.99690.01369143509186494 0.009785671706631548\n",
            "60000/60000 [==============================] - 36s 604us/sample - loss: 0.0098 - acc: 0.9969\n",
            "Epoch 7/10\n",
            "59904/60000 [============================>.] - ETA: 0s - loss: 0.0076 - acc: 0.99740.009785671706631548 0.007597894948521935\n",
            "60000/60000 [==============================] - 36s 605us/sample - loss: 0.0076 - acc: 0.9974\n",
            "Epoch 8/10\n",
            "59904/60000 [============================>.] - ETA: 0s - loss: 0.0054 - acc: 0.99810.007597894948521935 0.005408745356688208\n",
            "60000/60000 [==============================] - 36s 602us/sample - loss: 0.0054 - acc: 0.9981\n",
            "10000/10000 [==============================] - 2s 207us/sample - loss: 0.0648 - acc: 0.9851\n"
          ],
          "name": "stdout"
        },
        {
          "output_type": "execute_result",
          "data": {
            "text/plain": [
              "[0.06481015770401273, 0.9851]"
            ]
          },
          "metadata": {
            "tags": []
          },
          "execution_count": 6
        }
      ]
    }
  ]
}